{
 "cells": [
  {
   "cell_type": "markdown",
   "metadata": {},
   "source": [
    "This exercise will require you to pull some data from the Qunadl API. Qaundl is currently the most widely used aggregator of financial market data."
   ]
  },
  {
   "cell_type": "markdown",
   "metadata": {},
   "source": [
    "As a first step, you will need to register a free account on the http://www.quandl.com website."
   ]
  },
  {
   "cell_type": "markdown",
   "metadata": {},
   "source": [
    "After you register, you will be provided with a unique API key, that you should store:"
   ]
  },
  {
   "cell_type": "code",
   "execution_count": 1,
   "metadata": {
    "jupyter": {
     "outputs_hidden": true
    }
   },
   "outputs": [],
   "source": [
    "# Store the API key as a string - according to PEP8, constants are always named in all upper case\n",
    "API_KEY ="
   ]
  },
  {
   "cell_type": "markdown",
   "metadata": {},
   "source": [
    "Qaundl has a large number of data sources, but, unfortunately, most of them require a Premium subscription. Still, there are also a good number of free datasets."
   ]
  },
  {
   "cell_type": "markdown",
   "metadata": {},
   "source": [
    "For this mini project, we will focus on equities data from the Frankfurt Stock Exhange (FSE), which is available for free. We'll try and analyze the stock prices of a company called Carl Zeiss Meditec, which manufactures tools for eye examinations, as well as medical lasers for laser eye surgery: https://www.zeiss.com/meditec/int/home.html. The company is listed under the stock ticker AFX_X."
   ]
  },
  {
   "cell_type": "markdown",
   "metadata": {},
   "source": [
    "You can find the detailed Quandl API instructions here: https://docs.quandl.com/docs/time-series"
   ]
  },
  {
   "cell_type": "markdown",
   "metadata": {},
   "source": [
    "While there is a dedicated Python package for connecting to the Quandl API, we would prefer that you use the *requests* package, which can be easily downloaded using *pip* or *conda*. You can find the documentation for the package here: http://docs.python-requests.org/en/master/ "
   ]
  },
  {
   "cell_type": "markdown",
   "metadata": {},
   "source": [
    "Finally, apart from the *requests* package, you are encouraged to not use any third party Python packages, such as *pandas*, and instead focus on what's available in the Python Standard Library (the *collections* module might come in handy: https://pymotw.com/3/collections/ ).\n",
    "Also, since you won't have access to DataFrames, you are encouraged to us Python's native data structures - preferably dictionaries, though some questions can also be answered using lists.\n",
    "You can read more on these data structures here: https://docs.python.org/3/tutorial/datastructures.html"
   ]
  },
  {
   "cell_type": "markdown",
   "metadata": {},
   "source": [
    "Keep in mind that the JSON responses you will be getting from the API map almost one-to-one to Python's dictionaries. Unfortunately, they can be very nested, so make sure you read up on indexing dictionaries in the documentation provided above."
   ]
  },
  {
   "cell_type": "code",
   "execution_count": 2,
   "metadata": {
    "jupyter": {
     "outputs_hidden": true
    }
   },
   "outputs": [],
   "source": [
    "# First, import the relevant modules\n",
    "import requests\n",
    "import pprint\n"
   ]
  },
  {
   "cell_type": "markdown",
   "metadata": {},
   "source": [
    "Note: API's can change a bit with each version, for this exercise it is reccomended to use the \"V3\" quandl api at `https://www.quandl.com/api/v3/`"
   ]
  },
  {
   "cell_type": "code",
   "execution_count": 3,
   "metadata": {
    "jupyter": {
     "outputs_hidden": true
    }
   },
   "outputs": [],
   "source": [
    "# Now, call the Quandl API and pull out a small sample of the data (only one day) to get a glimpse\n",
    "# into the JSON structure that will be returned\n",
    "url = 'https://www.quandl.com/api/v3/datasets/FSE/AFX_X/data.json?limit=1&api_key='\n",
    "r = requests.get(url)"
   ]
  },
  {
   "cell_type": "code",
   "execution_count": 4,
   "metadata": {
    "jupyter": {
     "outputs_hidden": true
    }
   },
   "outputs": [
    {
     "name": "stdout",
     "output_type": "stream",
     "text": [
      "{'dataset_data': {'collapse': None,\n",
      "                  'column_index': None,\n",
      "                  'column_names': ['Date',\n",
      "                                   'Open',\n",
      "                                   'High',\n",
      "                                   'Low',\n",
      "                                   'Close',\n",
      "                                   'Change',\n",
      "                                   'Traded Volume',\n",
      "                                   'Turnover',\n",
      "                                   'Last Price of the Day',\n",
      "                                   'Daily Traded Units',\n",
      "                                   'Daily Turnover'],\n",
      "                  'data': [['2020-12-01',\n",
      "                            112.2,\n",
      "                            112.2,\n",
      "                            111.5,\n",
      "                            112.0,\n",
      "                            None,\n",
      "                            51.0,\n",
      "                            5703.0,\n",
      "                            None,\n",
      "                            None,\n",
      "                            None]],\n",
      "                  'end_date': '2020-12-01',\n",
      "                  'frequency': 'daily',\n",
      "                  'limit': 1,\n",
      "                  'order': None,\n",
      "                  'start_date': '2000-06-07',\n",
      "                  'transform': None}}\n"
     ]
    }
   ],
   "source": [
    "# Inspect the JSON structure of the object you created, and take note of how nested it is,\n",
    "# as well as the overall structure\n",
    "#print(r.json())\n",
    "pprint.pprint(r.json())"
   ]
  },
  {
   "cell_type": "markdown",
   "metadata": {},
   "source": [
    "These are your tasks for this mini project:\n",
    "\n",
    "1. Collect data from the Franfurt Stock Exchange, for the ticker AFX_X, for the whole year 2017 (keep in mind that the date format is YYYY-MM-DD).\n",
    "2. Convert the returned JSON object into a Python dictionary.\n",
    "3. Calculate what the highest and lowest opening prices were for the stock in this period.\n",
    "4. What was the largest change in any one day (based on High and Low price)?\n",
    "5. What was the largest change between any two days (based on Closing Price)?\n",
    "6. What was the average daily trading volume during this year?\n",
    "7. (Optional) What was the median trading volume during this year. (Note: you may need to implement your own function for calculating the median.)"
   ]
  },
  {
   "cell_type": "code",
   "execution_count": 4,
   "metadata": {
    "jupyter": {
     "outputs_hidden": true
    }
   },
   "outputs": [],
   "source": [
    "# 1. Collect data from the Franfurt Stock Exchange, for the ticker AFX_X, for the whole year 2017 (keep in mind that \n",
    "# the date format is YYYY-MM-DD).\n",
    "url = 'https://www.quandl.com/api/v3/datasets/FSE/AFX_X/data.json?start_date=2017-01-01&end_date=2017-12-31&api_key=9QUqUqK6PxPyxFxo1dcM'\n",
    "r = requests.get(url)"
   ]
  },
  {
   "cell_type": "code",
   "execution_count": 5,
   "metadata": {},
   "outputs": [],
   "source": [
    "# 2. Convert the returned JSON object into a Python dictionary.\n",
    "data_json = r.json()"
   ]
  },
  {
   "cell_type": "code",
   "execution_count": 6,
   "metadata": {},
   "outputs": [
    {
     "name": "stdout",
     "output_type": "stream",
     "text": [
      "Highest opening price was 53.11\n",
      "Lowest opening price was 34.0\n"
     ]
    }
   ],
   "source": [
    "# 3. Calculate what the highest and lowest opening prices were for the stock in this period.\n",
    "opening_prices = []\n",
    "for daily in data_json['dataset_data']['data']:\n",
    "    if daily[1] != None:\n",
    "        opening_prices.append(daily[1])\n",
    "\n",
    "low_open = str(min(opening_prices))\n",
    "high_open = str(max(opening_prices))\n",
    "print('Highest opening price was ' + high_open)\n",
    "print('Lowest opening price was ' + low_open)"
   ]
  },
  {
   "cell_type": "code",
   "execution_count": 7,
   "metadata": {},
   "outputs": [
    {
     "name": "stdout",
     "output_type": "stream",
     "text": [
      "Largest Change was 2.8100000000000023\n"
     ]
    }
   ],
   "source": [
    "# 4. What was the largest change in any one day (based on High and Low price)?\n",
    "day_change = []\n",
    "for daily in data_json['dataset_data']['data']:\n",
    "    if daily[-9:-8] != None:\n",
    "        day_change.append(daily[-9] - daily[-8])\n",
    "largest_change = str(max(day_change))\n",
    "print('Largest Change was ' + largest_change)\n"
   ]
  },
  {
   "cell_type": "code",
   "execution_count": 8,
   "metadata": {},
   "outputs": [
    {
     "name": "stdout",
     "output_type": "stream",
     "text": [
      "Largest two day change was 2.559999999999995\n"
     ]
    }
   ],
   "source": [
    "# 5. What was the largest change between any two days (based on Closing Price)?\n",
    "closing_prices = []\n",
    "for daily in data_json['dataset_data']['data']:\n",
    "    if daily[-7] != None:\n",
    "        closing_prices.append(daily[-7])\n",
    "change = []\n",
    "for i, x in enumerate(closing_prices):\n",
    "    change.append(x - closing_prices[i-1])\n",
    "price_change = []\n",
    "for price in change[1:]:\n",
    "    price_change.append(abs(price))\n",
    "largest_closing_price_change = str(max(price_change))\n",
    "print('Largest two day change was ' + str(largest_closing_price_change))"
   ]
  },
  {
   "cell_type": "code",
   "execution_count": 9,
   "metadata": {},
   "outputs": [
    {
     "name": "stdout",
     "output_type": "stream",
     "text": [
      "Average daily trade volume was 89124.33725490196\n"
     ]
    }
   ],
   "source": [
    "#6 . What was the average daily trading volume during this year?\n",
    "daily_trading_volume = []\n",
    "for daily in data_json['dataset_data']['data']:\n",
    "    if daily[-5] != None:\n",
    "        daily_trading_volume.append(daily[-5])\n",
    "average_trade = str(sum(daily_trading_volume)/len(daily_trading_volume))\n",
    "print('Average daily trade volume was ' + average_trade)"
   ]
  },
  {
   "cell_type": "code",
   "execution_count": 10,
   "metadata": {},
   "outputs": [
    {
     "name": "stdout",
     "output_type": "stream",
     "text": [
      "Median trading volume was 76286.0\n"
     ]
    }
   ],
   "source": [
    "# 7. (Optional) What was the median volume during this year. (Note: you may need to implement your\n",
    "# own function for calculating the median)\n",
    "daily_trading_volume = []\n",
    "for daily in data_json['dataset_data']['data']:\n",
    "    if daily[-5] != None:\n",
    "        daily_trading_volume.append(daily[-5])\n",
    "def median(numlist):\n",
    "    sorted_numlist = sorted(numlist)\n",
    "    len_numlist = len(numlist)\n",
    "    \n",
    "    return (sorted_numlist[len_numlist//2-1]/2.0+sorted_numlist[len_numlist//2]/2.0, sorted_numlist[len_numlist//2])[len_numlist % 2] if len_numlist else None\n",
    "    \n",
    "median = str(median(daily_trading_volume))\n",
    "print('Median trading volume was ' + median)"
   ]
  },
  {
   "cell_type": "code",
   "execution_count": null,
   "metadata": {},
   "outputs": [],
   "source": []
  }
 ],
 "metadata": {
  "kernelspec": {
   "display_name": "Python 3 (ipykernel)",
   "language": "python",
   "name": "python3"
  },
  "language_info": {
   "codemirror_mode": {
    "name": "ipython",
    "version": 3
   },
   "file_extension": ".py",
   "mimetype": "text/x-python",
   "name": "python",
   "nbconvert_exporter": "python",
   "pygments_lexer": "ipython3",
   "version": "3.9.12"
  }
 },
 "nbformat": 4,
 "nbformat_minor": 4
}
